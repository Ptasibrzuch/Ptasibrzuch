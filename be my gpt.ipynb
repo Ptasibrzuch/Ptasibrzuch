{
 "cells": [
  {
   "cell_type": "markdown",
   "id": "628077e4",
   "metadata": {},
   "source": [
    "# Preliminary"
   ]
  },
  {
   "cell_type": "markdown",
   "id": "54f6a3f2",
   "metadata": {},
   "source": [
    "All this work is copy of insane tutorial by Andrej Karpathy with some student's comments. Check out his youtube, github, and anything there is!"
   ]
  },
  {
   "cell_type": "markdown",
   "id": "3fca1d8f",
   "metadata": {},
   "source": [
    "https://www.youtube.com/watch?v=kCc8FmEb1nY&ab_channel=AndrejKarpathy"
   ]
  },
  {
   "cell_type": "markdown",
   "id": "a5a719b9",
   "metadata": {
    "ExecuteTime": {
     "end_time": "2023-04-11T10:50:35.501405Z",
     "start_time": "2023-04-11T10:50:35.489975Z"
    }
   },
   "source": [
    "Transformer was a neural network deseign developed first in paper:"
   ]
  },
  {
   "cell_type": "markdown",
   "id": "d432823c",
   "metadata": {},
   "source": [
    "https://arxiv.org/abs/1706.03762"
   ]
  },
  {
   "cell_type": "markdown",
   "id": "08f8107d",
   "metadata": {},
   "source": [
    "Transformer paper also uses knowledge of deep residual connections development from here:"
   ]
  },
  {
   "cell_type": "markdown",
   "id": "bd1b8fc3",
   "metadata": {},
   "source": [
    "https://arxiv.org/abs/1512.03385"
   ]
  },
  {
   "cell_type": "markdown",
   "id": "c7c728bc",
   "metadata": {},
   "source": [
    "While scaling model, to prevent overfitting, we use a dropout strategy developed in:"
   ]
  },
  {
   "cell_type": "markdown",
   "id": "2af561b6",
   "metadata": {},
   "source": [
    "https://www.cs.toronto.edu/~rsalakhu/papers/srivastava14a.pdf"
   ]
  },
  {
   "cell_type": "markdown",
   "id": "2b88dd57",
   "metadata": {},
   "source": [
    "## Some editorial notes"
   ]
  },
  {
   "cell_type": "markdown",
   "id": "9bcaf887",
   "metadata": {},
   "source": [
    "In case of text generation. We can think of it as a question \"What token comes next in a series of given context?\", thus for neural net this is a 'classification' problem. For given token database which of them is represented by the context you see?"
   ]
  },
  {
   "cell_type": "markdown",
   "id": "179717bd",
   "metadata": {},
   "source": [
    "In this tutorial Andrej developed a language generation model. It differs from original paper in some aspects. The key one is that the original transformer was developed for machine translation task, hence it used encoder-decoder structure. This example is just a decoder. Both these components are structured in similar way, and their cooperation is easy to understand once the Self-Attention mechanism is understood."
   ]
  },
  {
   "cell_type": "markdown",
   "id": "8d874791",
   "metadata": {},
   "source": [
    "It have been 6 years since 'Attention is all you need' was written. A lot have changed during that time. Now living in the era of Transformer based models, it becomes key to understand what is the mechanism that empowers them so much. Just picture this, neural nets are trivial subject from the mathematical point of view, they were discovered long long ago, but never before there was so much hype for them. Why? Well, it was always known how powerful they can be, but computation was extremly resource consuming, and the architecture( of any kind) had its limitations. Recent advancements in computation allowed scientist to work more on them, creating state of art models. Not only the neural nets, but all sorts of decision making alorithms. Success was close, but something was still lacking to let them take over the world. It turned out that the attention was all they needed..."
   ]
  },
  {
   "cell_type": "markdown",
   "id": "5bdbcd17",
   "metadata": {},
   "source": [
    "## Download tinyshakespeare and load it"
   ]
  },
  {
   "cell_type": "code",
   "execution_count": 1,
   "id": "9b2b2e82",
   "metadata": {
    "ExecuteTime": {
     "end_time": "2023-04-11T06:34:57.759351Z",
     "start_time": "2023-04-11T06:34:56.611146Z"
    }
   },
   "outputs": [
    {
     "name": "stdout",
     "output_type": "stream",
     "text": [
      "--2023-04-11 08:34:57--  https://raw.githubusercontent.com/karpathy/char-rnn/master/data/tinyshakespeare/input.txt\n",
      "Resolving raw.githubusercontent.com (raw.githubusercontent.com)... 185.199.111.133, 185.199.109.133, 185.199.110.133, ...\n",
      "Connecting to raw.githubusercontent.com (raw.githubusercontent.com)|185.199.111.133|:443... connected.\n",
      "HTTP request sent, awaiting response... 200 OK\n",
      "Length: 1115394 (1.1M) [text/plain]\n",
      "Saving to: 'input.txt'\n",
      "\n",
      "input.txt           100%[===================>]   1.06M  --.-KB/s    in 0.1s    \n",
      "\n",
      "2023-04-11 08:34:57 (8.79 MB/s) - 'input.txt' saved [1115394/1115394]\n",
      "\n"
     ]
    }
   ],
   "source": [
    "!wget https://raw.githubusercontent.com/karpathy/char-rnn/master/data/tinyshakespeare/input.txt"
   ]
  },
  {
   "cell_type": "code",
   "execution_count": 2,
   "id": "22257d2f",
   "metadata": {
    "ExecuteTime": {
     "end_time": "2023-04-11T06:35:07.034582Z",
     "start_time": "2023-04-11T06:35:07.026427Z"
    }
   },
   "outputs": [],
   "source": [
    "# read it in to inspect it\n",
    "with open('input.txt', 'r', encoding='utf-8') as f:\n",
    "    text = f.read()"
   ]
  },
  {
   "cell_type": "code",
   "execution_count": 5,
   "id": "f9dedd63",
   "metadata": {
    "ExecuteTime": {
     "end_time": "2023-04-11T06:36:04.828259Z",
     "start_time": "2023-04-11T06:36:04.818615Z"
    }
   },
   "outputs": [
    {
     "name": "stdout",
     "output_type": "stream",
     "text": [
      "First Citizen:\n",
      "Before we proceed any further, hear me speak.\n",
      "\n",
      "All:\n",
      "Speak, speak.\n",
      "\n",
      "First Citizen:\n",
      "You are all resolved rather to die than to famish?\n",
      "\n",
      "All:\n",
      "Resolved. resolved.\n",
      "\n",
      "First Citizen:\n",
      "First, you know Caius Marcius is chief enemy to the people.\n",
      "\n",
      "All:\n",
      "We know't, we know't.\n",
      "\n",
      "First Citizen:\n",
      "Let us\n"
     ]
    }
   ],
   "source": [
    "print(text[:300])"
   ]
  },
  {
   "cell_type": "code",
   "execution_count": 7,
   "id": "a1eaeedc",
   "metadata": {
    "ExecuteTime": {
     "end_time": "2023-04-11T06:36:35.124287Z",
     "start_time": "2023-04-11T06:36:35.114446Z"
    }
   },
   "outputs": [
    {
     "name": "stdout",
     "output_type": "stream",
     "text": [
      "Length of dataset in characters(which will be our tokens):  1115394\n"
     ]
    }
   ],
   "source": [
    "print(\"Length of dataset in characters(which will be our tokens): \", len(text))"
   ]
  },
  {
   "cell_type": "markdown",
   "id": "f880a874",
   "metadata": {},
   "source": [
    "## Vocab creation for tokenization"
   ]
  },
  {
   "cell_type": "code",
   "execution_count": 9,
   "id": "19ef0e28",
   "metadata": {
    "ExecuteTime": {
     "end_time": "2023-04-11T06:38:08.179260Z",
     "start_time": "2023-04-11T06:38:08.143621Z"
    }
   },
   "outputs": [
    {
     "name": "stdout",
     "output_type": "stream",
     "text": [
      "\n",
      " !$&',-.3:;?ABCDEFGHIJKLMNOPQRSTUVWXYZabcdefghijklmnopqrstuvwxyz\n",
      "Number of characters in vocabulary: 65\n"
     ]
    }
   ],
   "source": [
    "# here are all the unique characters that occur in this text\n",
    "chars = sorted(list(set(text)))\n",
    "vocab_size = len(chars)\n",
    "print(''.join(chars))\n",
    "print('Number of characters in vocabulary: ' + str(vocab_size))"
   ]
  },
  {
   "cell_type": "markdown",
   "id": "693d1342",
   "metadata": {},
   "source": [
    "## Vocab mapping into integers"
   ]
  },
  {
   "cell_type": "markdown",
   "id": "ecc7172a",
   "metadata": {},
   "source": [
    "Now we create a simple tokenization process. It is a good exercise to use different implementations, where tokens are subwords. Search huggingface! ... or <b>take TIKTOKEN like Andrej suggested."
   ]
  },
  {
   "cell_type": "code",
   "execution_count": 10,
   "id": "fee07917",
   "metadata": {
    "ExecuteTime": {
     "end_time": "2023-04-11T06:39:17.467505Z",
     "start_time": "2023-04-11T06:39:17.446386Z"
    }
   },
   "outputs": [],
   "source": [
    "stoi = { ch:i for i,ch in enumerate(chars) }\n",
    "itos = { i:ch for i,ch in enumerate(chars) }\n",
    "encode = lambda s: [stoi[c] for c in s] # encoder: take a string, output a list of integers\n",
    "decode = lambda l: ''.join([itos[i] for i in l]) # decoder: take a list of integers, output a string"
   ]
  },
  {
   "cell_type": "code",
   "execution_count": 11,
   "id": "6f2f42e1",
   "metadata": {
    "ExecuteTime": {
     "end_time": "2023-04-11T06:39:17.643310Z",
     "start_time": "2023-04-11T06:39:17.636434Z"
    }
   },
   "outputs": [
    {
     "name": "stdout",
     "output_type": "stream",
     "text": [
      "[46, 47, 47, 1, 58, 46, 43, 56, 43]\n",
      "hii there\n"
     ]
    }
   ],
   "source": [
    "print(encode(\"hii there\"))\n",
    "print(decode(encode(\"hii there\")))"
   ]
  },
  {
   "cell_type": "markdown",
   "id": "846a46be",
   "metadata": {},
   "source": [
    "# Initial work on dataset"
   ]
  },
  {
   "cell_type": "markdown",
   "id": "c5cbdeb9",
   "metadata": {},
   "source": [
    "## Dataset encoding with previously created vocab mapping"
   ]
  },
  {
   "cell_type": "code",
   "execution_count": 15,
   "id": "3857c8c1",
   "metadata": {
    "ExecuteTime": {
     "end_time": "2023-04-11T06:43:23.611921Z",
     "start_time": "2023-04-11T06:43:23.453019Z"
    }
   },
   "outputs": [
    {
     "name": "stdout",
     "output_type": "stream",
     "text": [
      "torch.Size([1115394]) torch.int64\n",
      "tensor([18, 47, 56, 57, 58,  1, 15, 47, 58, 47, 64, 43, 52, 10,  0, 14, 43, 44,\n",
      "        53, 56, 43,  1, 61, 43,  1, 54, 56, 53, 41, 43, 43, 42,  1, 39, 52, 63,\n",
      "         1, 44, 59, 56, 58, 46, 43, 56,  6,  1, 46, 43, 39, 56,  1, 51, 43,  1,\n",
      "        57, 54, 43, 39, 49,  8,  0,  0, 13, 50, 50, 10,  0, 31, 54, 43, 39, 49,\n",
      "         6,  1, 57, 54, 43, 39, 49,  8,  0,  0, 18, 47, 56, 57, 58,  1, 15, 47,\n",
      "        58, 47, 64, 43, 52, 10,  0, 37, 53, 59])\n"
     ]
    }
   ],
   "source": [
    "import torch\n",
    "data = torch.tensor(encode(text), dtype=torch.long)\n",
    "print(data.shape, data.dtype)\n",
    "print(data[:100]) # the 100 characters we looked at earier will to the GPT look like this"
   ]
  },
  {
   "cell_type": "markdown",
   "id": "e1ad2d56",
   "metadata": {},
   "source": [
    "We encoded whole dataset into a single tensor which size corresponds to lenght of original dataset(number of characters). And each element is a representation of a character given by encode mapping."
   ]
  },
  {
   "cell_type": "markdown",
   "id": "a964127c",
   "metadata": {},
   "source": [
    "In fact what we just did is that we tokenized the dataset. Remember in our case <b>character == token</b> ;)"
   ]
  },
  {
   "cell_type": "markdown",
   "id": "f9ab10d5",
   "metadata": {
    "ExecuteTime": {
     "end_time": "2023-04-11T06:42:36.755423Z",
     "start_time": "2023-04-11T06:42:36.736943Z"
    }
   },
   "source": [
    "## Dummy data split"
   ]
  },
  {
   "cell_type": "code",
   "execution_count": 18,
   "id": "61ebb847",
   "metadata": {
    "ExecuteTime": {
     "end_time": "2023-04-11T06:48:49.887853Z",
     "start_time": "2023-04-11T06:48:49.878922Z"
    }
   },
   "outputs": [],
   "source": [
    "# Let's now split up the data into train and validation sets\n",
    "n = int(0.9*len(data)) # first 90% will be train, rest val\n",
    "train_data = data[:n]\n",
    "val_data = data[n:]"
   ]
  },
  {
   "cell_type": "markdown",
   "id": "1ec103d3",
   "metadata": {},
   "source": [
    "## Context(time dimension) explanation"
   ]
  },
  {
   "cell_type": "markdown",
   "id": "5a0ca564",
   "metadata": {},
   "source": [
    "We setup the size of context(number of preceding tokens) on which the model will try to predict the next token in series."
   ]
  },
  {
   "cell_type": "code",
   "execution_count": 19,
   "id": "d8bf0f12",
   "metadata": {
    "ExecuteTime": {
     "end_time": "2023-04-11T06:53:27.301141Z",
     "start_time": "2023-04-11T06:53:27.289370Z"
    }
   },
   "outputs": [
    {
     "data": {
      "text/plain": [
       "tensor([18, 47, 56, 57, 58,  1, 15, 47, 58])"
      ]
     },
     "execution_count": 19,
     "metadata": {},
     "output_type": "execute_result"
    }
   ],
   "source": [
    "context_size = 8\n",
    "train_data[:context_size+1]"
   ]
  },
  {
   "cell_type": "code",
   "execution_count": 28,
   "id": "7626a8bb",
   "metadata": {
    "ExecuteTime": {
     "end_time": "2023-04-11T06:59:30.994586Z",
     "start_time": "2023-04-11T06:59:30.973064Z"
    }
   },
   "outputs": [
    {
     "name": "stdout",
     "output_type": "stream",
     "text": [
      "1. When input is tensor([18]) the target token is: 47.\n",
      "2. When input is tensor([18, 47]) the target token is: 56.\n",
      "3. When input is tensor([18, 47, 56]) the target token is: 57.\n",
      "4. When input is tensor([18, 47, 56, 57]) the target token is: 58.\n",
      "5. When input is tensor([18, 47, 56, 57, 58]) the target token is: 1.\n",
      "6. When input is tensor([18, 47, 56, 57, 58,  1]) the target token is: 15.\n",
      "7. When input is tensor([18, 47, 56, 57, 58,  1, 15]) the target token is: 47.\n",
      "8. When input is tensor([18, 47, 56, 57, 58,  1, 15, 47]) the target token is: 58.\n"
     ]
    }
   ],
   "source": [
    "x = train_data[:context_size]\n",
    "y = train_data[1:context_size+1]\n",
    "for i,t in enumerate(range(context_size)):\n",
    "    context = x[:t+1]\n",
    "    target = y[t]\n",
    "    print(str(i+1) + f\". When input is {context} the target token is: {target}.\")"
   ]
  },
  {
   "cell_type": "markdown",
   "id": "d6c3ad7b",
   "metadata": {},
   "source": [
    "We train on each of 8 of this tensors for given input tensor to make model used to recognize different context sizes."
   ]
  },
  {
   "cell_type": "markdown",
   "id": "5b958469",
   "metadata": {},
   "source": [
    "## Batching"
   ]
  },
  {
   "cell_type": "code",
   "execution_count": 39,
   "id": "a8f79d40",
   "metadata": {
    "ExecuteTime": {
     "end_time": "2023-04-11T07:17:11.724706Z",
     "start_time": "2023-04-11T07:17:11.706659Z"
    }
   },
   "outputs": [
    {
     "name": "stdout",
     "output_type": "stream",
     "text": [
      "inputs:\n",
      "torch.Size([4, 8])\n",
      "tensor([[47, 56,  1, 54, 56, 53, 54, 53],\n",
      "        [42,  8,  0,  0, 30, 27, 25, 17],\n",
      "        [ 1, 47, 52,  1, 58, 46, 43,  1],\n",
      "        [ 1, 54, 43, 53, 54, 50, 43,  6]])\n",
      "targets:\n",
      "torch.Size([4, 8])\n",
      "tensor([[56,  1, 54, 56, 53, 54, 53, 56],\n",
      "        [ 8,  0,  0, 30, 27, 25, 17, 27],\n",
      "        [47, 52,  1, 58, 46, 43,  1, 53],\n",
      "        [54, 43, 53, 54, 50, 43,  6,  1]])\n",
      "----\n",
      "BATCH 1\n",
      "1 When input is [47] the target token is: 56.\n",
      "2 When input is [47, 56] the target token is: 1.\n",
      "3 When input is [47, 56, 1] the target token is: 54.\n",
      "4 When input is [47, 56, 1, 54] the target token is: 56.\n",
      "5 When input is [47, 56, 1, 54, 56] the target token is: 53.\n",
      "6 When input is [47, 56, 1, 54, 56, 53] the target token is: 54.\n",
      "7 When input is [47, 56, 1, 54, 56, 53, 54] the target token is: 53.\n",
      "8 When input is [47, 56, 1, 54, 56, 53, 54, 53] the target token is: 56.\n",
      "BATCH 2\n",
      "1 When input is [42] the target token is: 8.\n",
      "2 When input is [42, 8] the target token is: 0.\n",
      "3 When input is [42, 8, 0] the target token is: 0.\n",
      "4 When input is [42, 8, 0, 0] the target token is: 30.\n",
      "5 When input is [42, 8, 0, 0, 30] the target token is: 27.\n",
      "6 When input is [42, 8, 0, 0, 30, 27] the target token is: 25.\n",
      "7 When input is [42, 8, 0, 0, 30, 27, 25] the target token is: 17.\n",
      "8 When input is [42, 8, 0, 0, 30, 27, 25, 17] the target token is: 27.\n",
      "BATCH 3\n",
      "1 When input is [1] the target token is: 47.\n",
      "2 When input is [1, 47] the target token is: 52.\n",
      "3 When input is [1, 47, 52] the target token is: 1.\n",
      "4 When input is [1, 47, 52, 1] the target token is: 58.\n",
      "5 When input is [1, 47, 52, 1, 58] the target token is: 46.\n",
      "6 When input is [1, 47, 52, 1, 58, 46] the target token is: 43.\n",
      "7 When input is [1, 47, 52, 1, 58, 46, 43] the target token is: 1.\n",
      "8 When input is [1, 47, 52, 1, 58, 46, 43, 1] the target token is: 53.\n",
      "BATCH 4\n",
      "1 When input is [1] the target token is: 54.\n",
      "2 When input is [1, 54] the target token is: 43.\n",
      "3 When input is [1, 54, 43] the target token is: 53.\n",
      "4 When input is [1, 54, 43, 53] the target token is: 54.\n",
      "5 When input is [1, 54, 43, 53, 54] the target token is: 50.\n",
      "6 When input is [1, 54, 43, 53, 54, 50] the target token is: 43.\n",
      "7 When input is [1, 54, 43, 53, 54, 50, 43] the target token is: 6.\n",
      "8 When input is [1, 54, 43, 53, 54, 50, 43, 6] the target token is: 1.\n"
     ]
    }
   ],
   "source": [
    "torch.manual_seed(2137)\n",
    "batch_size = 4 # how many independent sequences will we process in parallel?\n",
    "context_size = 8 # what is the maximum context length for predictions?\n",
    "\n",
    "def get_batch(split):\n",
    "    # generate a small batch of data of inputs x and targets y\n",
    "    data = train_data if split == 'train' else val_data\n",
    "    ix = torch.randint(len(data) - context_size, (batch_size,)) #batch_size number of random offsets\n",
    "    #Stack appends rows to tensor. The size of it here is 4x8.\n",
    "    x = torch.stack([data[i:i+context_size] for i in ix]) \n",
    "    y = torch.stack([data[i+1:i+context_size+1] for i in ix])\n",
    "    return x, y\n",
    "\n",
    "xb, yb = get_batch('train')\n",
    "print('inputs:')\n",
    "print(xb.shape)\n",
    "print(xb)\n",
    "print('targets:')\n",
    "print(yb.shape)\n",
    "print(yb)\n",
    "\n",
    "print('----')\n",
    "\n",
    "for i,b in enumerate(range(batch_size)): # batch dimension\n",
    "    print('BATCH ' + str(i+1))\n",
    "    for j,t in enumerate(range(context_size)): # time dimension\n",
    "        context = xb[b, :t+1]\n",
    "        target = yb[b,t]\n",
    "        print(str(j+1)+ f\" When input is {context.tolist()} the target token is: {target}.\")"
   ]
  },
  {
   "cell_type": "markdown",
   "id": "179c4492",
   "metadata": {
    "ExecuteTime": {
     "end_time": "2023-04-11T07:16:57.950976Z",
     "start_time": "2023-04-11T07:16:57.940703Z"
    }
   },
   "source": [
    "This gives us 32 independent training examples for the model. Each batch was chosen as a random dataset slice of lenght context_size. And within each we have context_size number of training examples of different lenght. So 4x8 = 32 unique examples."
   ]
  },
  {
   "cell_type": "markdown",
   "id": "c57a6585",
   "metadata": {},
   "source": [
    "# Into the language models we go"
   ]
  },
  {
   "cell_type": "markdown",
   "id": "f3bb088a",
   "metadata": {},
   "source": [
    "Bigram model is not complex example of language model, which can give us the intuition of what we will be dealing with in the future. For instance we can see how the general structure looks, and what components are included in it."
   ]
  },
  {
   "cell_type": "markdown",
   "id": "1c23d976",
   "metadata": {},
   "source": [
    "## Bigram model overview"
   ]
  },
  {
   "cell_type": "code",
   "execution_count": 43,
   "id": "73409f11",
   "metadata": {
    "ExecuteTime": {
     "end_time": "2023-04-11T07:59:31.116941Z",
     "start_time": "2023-04-11T07:59:31.077935Z"
    }
   },
   "outputs": [
    {
     "name": "stdout",
     "output_type": "stream",
     "text": [
      "torch.Size([32, 65])\n",
      "tensor(4.4554, grad_fn=<NllLossBackward0>)\n",
      "\n",
      ".VsjVmn.VEJLVoWVnR$By$nbXVmzNOAokbakB,.SdviEfdfw\n",
      "r$lfEWIMFqmBdTbmxDFzYvG..3TaKw?jpnbeEzfPeQJWXfN$nzM\n"
     ]
    }
   ],
   "source": [
    "import torch\n",
    "import torch.nn as nn\n",
    "from torch.nn import functional as F\n",
    "torch.manual_seed(2137)\n",
    "\n",
    "class BigramLanguageModel(nn.Module):\n",
    "\n",
    "    def __init__(self, vocab_size):\n",
    "        #basic torch implementation, super is used to avoid issues with class inheretance\n",
    "        super().__init__() \n",
    "        # each token directly reads off the logits for the next token from a lookup table\n",
    "        self.token_embedding_table = nn.Embedding(vocab_size, vocab_size)\n",
    "\n",
    "    def forward(self, idx, targets=None):\n",
    "\n",
    "        # idx and targets are both (B,T) tensor of integers\n",
    "        # C is channel, the row selected by lookup on the embedding table.\n",
    "        logits = self.token_embedding_table(idx) # (B,T,C)\n",
    "        \n",
    "        if targets is None:\n",
    "            loss = None\n",
    "        else:\n",
    "            #logits reshaping for cross entropy calculation, this is just a programming thing ;)\n",
    "            B, T, C = logits.shape\n",
    "            logits = logits.view(B*T, C)\n",
    "            targets = targets.view(B*T)\n",
    "            loss = F.cross_entropy(logits, targets)\n",
    "\n",
    "        return logits, loss\n",
    "    \n",
    "    def generate(self, idx, max_new_tokens):\n",
    "        # idx is (B, T) array of indices in the current context\n",
    "        for _ in range(max_new_tokens):\n",
    "            # get the predictions\n",
    "            logits, loss = self(idx)\n",
    "            # focus only on the last time step\n",
    "            logits = logits[:, -1, :] # becomes (B, C)\n",
    "            # apply softmax to get probabilities\n",
    "            probs = F.softmax(logits, dim=-1) # (B, C)\n",
    "            # sample from the distribution\n",
    "            idx_next = torch.multinomial(probs, num_samples=1) # (B, 1)\n",
    "            # append sampled index to the running sequence\n",
    "            idx = torch.cat((idx, idx_next), dim=1) # (B, T+1)\n",
    "        return idx\n",
    "\n",
    "m = BigramLanguageModel(vocab_size)\n",
    "logits, loss = m(xb, yb)\n",
    "print(logits.shape)\n",
    "print(loss)\n",
    "\n",
    "print(decode(m.generate(idx = torch.zeros((1, 1), dtype=torch.long), max_new_tokens=100)[0].tolist()))"
   ]
  },
  {
   "cell_type": "markdown",
   "id": "aee8e46f",
   "metadata": {},
   "source": [
    "Random output, because model is not trainted yet. Also the loss is higher than the one we can calculate theoreticly, beacuse there is entropy involved. You can also look at it this way. The loss right now depends on seed. "
   ]
  },
  {
   "cell_type": "markdown",
   "id": "4653e727",
   "metadata": {},
   "source": [
    "### Less noisy loss calculation"
   ]
  },
  {
   "cell_type": "code",
   "execution_count": 58,
   "id": "782193c8",
   "metadata": {
    "ExecuteTime": {
     "end_time": "2023-04-11T08:28:33.896619Z",
     "start_time": "2023-04-11T08:28:33.884895Z"
    }
   },
   "outputs": [],
   "source": [
    "@torch.no_grad() #this tells torch that we will never call back on what is below, so it does not have to store info about it\n",
    "def estimate_loss():\n",
    "    out = {}\n",
    "    m.eval()\n",
    "    for split in ['train', 'val']:\n",
    "        losses = torch.zeros(eval_iters)\n",
    "        for k in range(eval_iters):\n",
    "            X, Y = get_batch(split)\n",
    "            logits, loss = m(X, Y)\n",
    "            losses[k] = loss.item()\n",
    "        out[split] = losses.mean()\n",
    "    m.train()\n",
    "    return out"
   ]
  },
  {
   "cell_type": "markdown",
   "id": "e536fd16",
   "metadata": {},
   "source": [
    "### Optimizer and training loop"
   ]
  },
  {
   "cell_type": "code",
   "execution_count": 59,
   "id": "0e3f5f87",
   "metadata": {
    "ExecuteTime": {
     "end_time": "2023-04-11T08:28:35.954225Z",
     "start_time": "2023-04-11T08:28:35.942247Z"
    }
   },
   "outputs": [],
   "source": [
    "# create a PyTorch optimizer\n",
    "optimizer = torch.optim.AdamW(m.parameters(), lr=1e-3)"
   ]
  },
  {
   "cell_type": "markdown",
   "id": "69a7d6c5",
   "metadata": {},
   "source": [
    "Here we give big learning rate, because the model is very small"
   ]
  },
  {
   "cell_type": "code",
   "execution_count": 62,
   "id": "b1e23106",
   "metadata": {
    "ExecuteTime": {
     "end_time": "2023-04-11T08:30:02.576447Z",
     "start_time": "2023-04-11T08:29:39.875545Z"
    }
   },
   "outputs": [
    {
     "name": "stdout",
     "output_type": "stream",
     "text": [
      "step 0: train loss 2.4549, val loss 2.4900\n",
      "step 300: train loss 2.4542, val loss 2.5008\n",
      "step 600: train loss 2.4529, val loss 2.4904\n",
      "step 900: train loss 2.4552, val loss 2.4833\n",
      "step 1200: train loss 2.4477, val loss 2.4960\n",
      "step 1500: train loss 2.4391, val loss 2.4754\n",
      "step 1800: train loss 2.4440, val loss 2.4866\n",
      "step 2100: train loss 2.4462, val loss 2.4809\n",
      "step 2400: train loss 2.4495, val loss 2.4983\n",
      "step 2700: train loss 2.4583, val loss 2.4933\n",
      "step 3000: train loss 2.4438, val loss 2.4900\n",
      "step 3300: train loss 2.4466, val loss 2.4841\n",
      "step 3600: train loss 2.4558, val loss 2.4936\n",
      "step 3900: train loss 2.4515, val loss 2.4974\n",
      "step 4200: train loss 2.4499, val loss 2.4860\n",
      "step 4500: train loss 2.4552, val loss 2.4841\n",
      "step 4800: train loss 2.4571, val loss 2.4901\n",
      "step 5100: train loss 2.4653, val loss 2.4855\n",
      "step 5400: train loss 2.4424, val loss 2.4930\n",
      "step 5700: train loss 2.4557, val loss 2.4975\n",
      "step 6000: train loss 2.4570, val loss 2.4838\n",
      "step 6300: train loss 2.4532, val loss 2.5000\n",
      "step 6600: train loss 2.4505, val loss 2.5012\n",
      "step 6900: train loss 2.4557, val loss 2.4925\n",
      "step 7200: train loss 2.4521, val loss 2.4938\n",
      "step 7500: train loss 2.4582, val loss 2.4865\n",
      "step 7800: train loss 2.4452, val loss 2.4850\n",
      "step 8100: train loss 2.4522, val loss 2.4862\n",
      "step 8400: train loss 2.4524, val loss 2.4895\n",
      "step 8700: train loss 2.4525, val loss 2.4913\n",
      "step 9000: train loss 2.4617, val loss 2.4940\n",
      "step 9300: train loss 2.4461, val loss 2.4854\n",
      "step 9600: train loss 2.4560, val loss 2.4906\n",
      "step 9900: train loss 2.4518, val loss 2.4924\n",
      "2.4698991775512695\n"
     ]
    }
   ],
   "source": [
    "batch_size = 32\n",
    "eval_interval = 300\n",
    "eval_iters = 200\n",
    "vlosses = []\n",
    "for steps in range(10000): # increase number of steps for good results... \n",
    "    if steps % eval_interval == 0:\n",
    "        losses = estimate_loss()\n",
    "        print(f\"step {steps}: train loss {losses['train']:.4f}, val loss {losses['val']:.4f}\")\n",
    "        vlosses.append(losses['val'])\n",
    "    # sample a batch of data\n",
    "    xb, yb = get_batch('train')\n",
    "\n",
    "    # evaluate the loss\n",
    "    logits, loss = m(xb, yb)\n",
    "    optimizer.zero_grad(set_to_none=True)\n",
    "    loss.backward()\n",
    "    optimizer.step()\n",
    "\n",
    "print(loss.item())"
   ]
  },
  {
   "cell_type": "code",
   "execution_count": 63,
   "id": "fe46f1e1",
   "metadata": {
    "ExecuteTime": {
     "end_time": "2023-04-11T08:30:05.745516Z",
     "start_time": "2023-04-11T08:30:05.647904Z"
    }
   },
   "outputs": [
    {
     "data": {
      "text/plain": [
       "[<matplotlib.lines.Line2D at 0x7ff1106a3dc0>]"
      ]
     },
     "execution_count": 63,
     "metadata": {},
     "output_type": "execute_result"
    },
    {
     "data": {
      "image/png": "[encoded data removed]",
      "text/plain": [
       "<Figure size 640x480 with 1 Axes>"
      ]
     },
     "metadata": {},
     "output_type": "display_data"
    }
   ],
   "source": [
    "from matplotlib.pyplot import plot\n",
    "plot(range(len(vlosses)),vlosses)"
   ]
  },
  {
   "cell_type": "code",
   "execution_count": 64,
   "id": "290191de",
   "metadata": {
    "ExecuteTime": {
     "end_time": "2023-04-11T08:32:13.656296Z",
     "start_time": "2023-04-11T08:32:13.584131Z"
    }
   },
   "outputs": [
    {
     "name": "stdout",
     "output_type": "stream",
     "text": [
      "\n",
      "S:\n",
      "\n",
      "Thive co at Win;\n",
      "Pr qupteve patothin ied oucusur ke spequgsh mor, t prt heaneinio tintou is ondoulyonothithoul.\n",
      "S:\n",
      "AMIXFushton mesthelll'Thad shthedou r.\n",
      "Hilaner lf se oy\n",
      "I'dor, the thadeige talendowil, deer s any, belit whoveier y I gre-\n",
      "Cu?\n",
      "The, Hatseat ug.\n",
      "\n",
      "Le,\n",
      "A bs, singhche blerant beps ' betu infous yord's:\n",
      "Br k r, h so at tof grdaintoit chushy d sped oklse ane b y g.\n",
      "\n",
      "BOVOF:\n",
      "Thaintobok me ear the I hen\n",
      "INEd maid; Gostivinitifeled the I thasle Yorsicotr'er, Cocoreen,\n",
      "Ansarenoured uk-te\n"
     ]
    }
   ],
   "source": [
    "print(decode(m.generate(idx = torch.zeros((1, 1), dtype=torch.long), max_new_tokens=500)[0].tolist()))"
   ]
  },
  {
   "cell_type": "markdown",
   "id": "80db7c99",
   "metadata": {},
   "source": [
    "# Self-attention"
   ]
  },
  {
   "cell_type": "markdown",
   "id": "737c7c75",
   "metadata": {},
   "source": [
    "## Mathematics"
   ]
  },
  {
   "cell_type": "markdown",
   "id": "a1451ebf",
   "metadata": {},
   "source": [
    "All examples below illustrate how matrix multiplication can help us include information about precceding tokens in generating new ones. It is all about building weight matrix telling us how much information we want to pass, and it should be lower triangular one, because we don't want to generate tokens basing on future. We predict future from the past! The last thing in this section is the softmax implementation which is the best. If you understand it, skip."
   ]
  },
  {
   "cell_type": "code",
   "execution_count": 65,
   "id": "3d125a61",
   "metadata": {
    "ExecuteTime": {
     "end_time": "2023-04-11T08:59:51.460884Z",
     "start_time": "2023-04-11T08:59:51.429681Z"
    }
   },
   "outputs": [
    {
     "name": "stdout",
     "output_type": "stream",
     "text": [
      "a=\n",
      "tensor([[1.0000, 0.0000, 0.0000],\n",
      "        [0.5000, 0.5000, 0.0000],\n",
      "        [0.3333, 0.3333, 0.3333]])\n",
      "--\n",
      "b=\n",
      "tensor([[2., 7.],\n",
      "        [6., 4.],\n",
      "        [6., 5.]])\n",
      "--\n",
      "c=\n",
      "tensor([[2.0000, 7.0000],\n",
      "        [4.0000, 5.5000],\n",
      "        [4.6667, 5.3333]])\n"
     ]
    }
   ],
   "source": [
    "# toy example illustrating how matrix multiplication can be used for a \"weighted aggregation\"\n",
    "torch.manual_seed(42)\n",
    "a = torch.tril(torch.ones(3, 3))\n",
    "a = a / torch.sum(a, 1, keepdim=True)\n",
    "b = torch.randint(0,10,(3,2)).float()\n",
    "c = a @ b\n",
    "print('a=')\n",
    "print(a)\n",
    "print('--')\n",
    "print('b=')\n",
    "print(b)\n",
    "print('--')\n",
    "print('c=')\n",
    "print(c)"
   ]
  },
  {
   "cell_type": "code",
   "execution_count": 66,
   "id": "471587d2",
   "metadata": {
    "ExecuteTime": {
     "end_time": "2023-04-11T09:00:03.800569Z",
     "start_time": "2023-04-11T09:00:03.781190Z"
    }
   },
   "outputs": [
    {
     "data": {
      "text/plain": [
       "torch.Size([4, 8, 2])"
      ]
     },
     "execution_count": 66,
     "metadata": {},
     "output_type": "execute_result"
    }
   ],
   "source": [
    "# consider the following toy example:\n",
    "\n",
    "torch.manual_seed(1337)\n",
    "B,T,C = 4,8,2 # batch, time, channels\n",
    "x = torch.randn(B,T,C)\n",
    "x.shape"
   ]
  },
  {
   "cell_type": "code",
   "execution_count": 67,
   "id": "fe77ca6f",
   "metadata": {
    "ExecuteTime": {
     "end_time": "2023-04-11T09:00:12.466421Z",
     "start_time": "2023-04-11T09:00:12.452071Z"
    }
   },
   "outputs": [],
   "source": [
    "# We want x[b,t] = mean_{i<=t} x[b,i]\n",
    "xbow = torch.zeros((B,T,C))\n",
    "for b in range(B):\n",
    "    for t in range(T):\n",
    "        xprev = x[b,:t+1] # (t,C)\n",
    "        xbow[b,t] = torch.mean(xprev, 0)"
   ]
  },
  {
   "cell_type": "code",
   "execution_count": 68,
   "id": "d904c8f6",
   "metadata": {
    "ExecuteTime": {
     "end_time": "2023-04-11T09:00:20.971339Z",
     "start_time": "2023-04-11T09:00:20.949207Z"
    }
   },
   "outputs": [
    {
     "data": {
      "text/plain": [
       "True"
      ]
     },
     "execution_count": 68,
     "metadata": {},
     "output_type": "execute_result"
    }
   ],
   "source": [
    "# version 2: using matrix multiply for a weighted aggregation\n",
    "wei = torch.tril(torch.ones(T, T))\n",
    "wei = wei / wei.sum(1, keepdim=True)\n",
    "xbow2 = wei @ x # (B, T, T) @ (B, T, C) ----> (B, T, C)\n",
    "torch.allclose(xbow, xbow2)"
   ]
  },
  {
   "cell_type": "code",
   "execution_count": 70,
   "id": "8aa819d4",
   "metadata": {
    "ExecuteTime": {
     "end_time": "2023-04-11T09:15:33.694263Z",
     "start_time": "2023-04-11T09:15:33.682119Z"
    }
   },
   "outputs": [
    {
     "data": {
      "text/plain": [
       "True"
      ]
     },
     "execution_count": 70,
     "metadata": {},
     "output_type": "execute_result"
    }
   ],
   "source": [
    "# version 3: use Softmax\n",
    "tril = torch.tril(torch.ones(T, T))\n",
    "wei = torch.zeros((T,T))\n",
    "wei = wei.masked_fill(tril == 0, float('-inf')) #we cut off the future\n",
    "wei = F.softmax(wei, dim=-1)\n",
    "xbow3 = wei @ x\n",
    "torch.allclose(xbow, xbow3)"
   ]
  },
  {
   "cell_type": "markdown",
   "id": "f775d0bf",
   "metadata": {},
   "source": [
    "## Into the attention world"
   ]
  },
  {
   "cell_type": "code",
   "execution_count": 78,
   "id": "1405cff9",
   "metadata": {
    "ExecuteTime": {
     "end_time": "2023-04-11T09:59:43.533003Z",
     "start_time": "2023-04-11T09:59:43.509118Z"
    }
   },
   "outputs": [
    {
     "data": {
      "text/plain": [
       "torch.Size([4, 8, 16])"
      ]
     },
     "execution_count": 78,
     "metadata": {},
     "output_type": "execute_result"
    }
   ],
   "source": [
    "# version 4: self-attention!\n",
    "torch.manual_seed(2137)\n",
    "B,T,C = 4,8,32 # batch, time, channels\n",
    "x = torch.randn(B,T,C)\n",
    "\n",
    "# let's see a single Head perform self-attention\n",
    "head_size = 16\n",
    "key = nn.Linear(C, head_size, bias=False)\n",
    "query = nn.Linear(C, head_size, bias=False)\n",
    "value = nn.Linear(C, head_size, bias=False)\n",
    "k = key(x)   # (B, T, 16)\n",
    "q = query(x) # (B, T, 16)\n",
    "wei =  q @ k.transpose(-2, -1) # (B, T, 16) @ (B, 16, T) ---> (B, T, T)\n",
    "\n",
    "tril = torch.tril(torch.ones(T, T))\n",
    "#wei = torch.zeros((T,T))\n",
    "wei = wei.masked_fill(tril == 0, float('-inf'))\n",
    "wei = F.softmax(wei, dim=-1)\n",
    "\n",
    "v = value(x)\n",
    "out = wei @ v\n",
    "#out = wei @ x\n",
    "\n",
    "out.shape"
   ]
  },
  {
   "cell_type": "markdown",
   "id": "bf9efa53",
   "metadata": {},
   "source": [
    "<b> Andrej's notes: <br>\n",
    "Notes:\n",
    "- Attention is a **communication mechanism**. Can be seen as nodes in a directed graph looking at each other and aggregating information with a weighted sum from all nodes that point to them, with data-dependent weights.\n",
    "- There is no notion of space. Attention simply acts over a set of vectors. This is why we need to positionally encode tokens.\n",
    "- Each example across batch dimension is of course processed completely independently and never \"talk\" to each other\n",
    "- In an \"encoder\" attention block just delete the single line that does masking with `tril`, allowing all tokens to communicate. This block here is called a \"decoder\" attention block because it has triangular masking, and is usually used in autoregressive settings, like language modeling.\n",
    "- \"self-attention\" just means that the keys and values are produced from the same source as queries. In \"cross-attention\", the queries still get produced from x, but the keys and values come from some other, external source (e.g. an encoder module)\n",
    "- \"Scaled\" attention additional divides `wei` by 1/sqrt(head_size). This makes it so when input Q,K are unit variance, wei will be unit variance too and Softmax will stay diffuse and not saturate too much. Illustration below    "
   ]
  },
  {
   "cell_type": "code",
   "execution_count": 72,
   "id": "acfe8cc6",
   "metadata": {
    "ExecuteTime": {
     "end_time": "2023-04-11T09:46:23.414048Z",
     "start_time": "2023-04-11T09:46:23.398863Z"
    }
   },
   "outputs": [],
   "source": [
    "k = torch.randn(B,T,head_size)\n",
    "q = torch.randn(B,T,head_size)\n",
    "wei = q @ k.transpose(-2, -1) * head_size**-0.5"
   ]
  },
  {
   "cell_type": "code",
   "execution_count": 73,
   "id": "1b31a94d",
   "metadata": {
    "ExecuteTime": {
     "end_time": "2023-04-11T09:46:30.686290Z",
     "start_time": "2023-04-11T09:46:30.668689Z"
    }
   },
   "outputs": [
    {
     "data": {
      "text/plain": [
       "tensor(1.0449)"
      ]
     },
     "execution_count": 73,
     "metadata": {},
     "output_type": "execute_result"
    }
   ],
   "source": [
    "k.var()"
   ]
  },
  {
   "cell_type": "code",
   "execution_count": 74,
   "id": "9f750c2f",
   "metadata": {
    "ExecuteTime": {
     "end_time": "2023-04-11T09:46:37.137070Z",
     "start_time": "2023-04-11T09:46:37.123245Z"
    }
   },
   "outputs": [
    {
     "data": {
      "text/plain": [
       "tensor(1.0700)"
      ]
     },
     "execution_count": 74,
     "metadata": {},
     "output_type": "execute_result"
    }
   ],
   "source": [
    "q.var()"
   ]
  },
  {
   "cell_type": "code",
   "execution_count": 75,
   "id": "5d006a9d",
   "metadata": {
    "ExecuteTime": {
     "end_time": "2023-04-11T09:46:42.948745Z",
     "start_time": "2023-04-11T09:46:42.930593Z"
    }
   },
   "outputs": [
    {
     "data": {
      "text/plain": [
       "tensor(1.0918)"
      ]
     },
     "execution_count": 75,
     "metadata": {},
     "output_type": "execute_result"
    }
   ],
   "source": [
    "wei.var()"
   ]
  },
  {
   "cell_type": "code",
   "execution_count": 76,
   "id": "a53364bb",
   "metadata": {
    "ExecuteTime": {
     "end_time": "2023-04-11T09:46:48.169187Z",
     "start_time": "2023-04-11T09:46:48.153876Z"
    }
   },
   "outputs": [
    {
     "data": {
      "text/plain": [
       "tensor([0.1925, 0.1426, 0.2351, 0.1426, 0.2872])"
      ]
     },
     "execution_count": 76,
     "metadata": {},
     "output_type": "execute_result"
    }
   ],
   "source": [
    "torch.softmax(torch.tensor([0.1, -0.2, 0.3, -0.2, 0.5]), dim=-1)"
   ]
  },
  {
   "cell_type": "code",
   "execution_count": 77,
   "id": "3f8ec6ca",
   "metadata": {
    "ExecuteTime": {
     "end_time": "2023-04-11T09:46:54.236119Z",
     "start_time": "2023-04-11T09:46:54.219376Z"
    }
   },
   "outputs": [
    {
     "data": {
      "text/plain": [
       "tensor([0.0326, 0.0030, 0.1615, 0.0030, 0.8000])"
      ]
     },
     "execution_count": 77,
     "metadata": {},
     "output_type": "execute_result"
    }
   ],
   "source": [
    "torch.softmax(torch.tensor([0.1, -0.2, 0.3, -0.2, 0.5])*8, dim=-1) # gets too peaky, converges to one-hot"
   ]
  },
  {
   "cell_type": "markdown",
   "id": "c6607940",
   "metadata": {},
   "source": [
    "Example above illustrates the importance of scaling with the head size, to achive variance close to 1 before the softmax. If we don't do that the results is becoming similar to one hot encoding. Meaning the biggest number will have the biggest weight and as the result the token will talk only with the one token that happens to be most important to it, losing all other information!"
   ]
  },
  {
   "cell_type": "markdown",
   "id": "c94e09de",
   "metadata": {},
   "source": [
    "# Transformers"
   ]
  },
  {
   "cell_type": "markdown",
   "id": "e4bc2edf",
   "metadata": {},
   "source": [
    "## TBC"
   ]
  },
  {
   "cell_type": "markdown",
   "id": "eb010154",
   "metadata": {},
   "source": [
    "## Layer normalization"
   ]
  },
  {
   "cell_type": "markdown",
   "id": "b651b982",
   "metadata": {},
   "source": [
    "Layers are normalized with use of torch implementation:"
   ]
  },
  {
   "cell_type": "markdown",
   "id": "095bb1bc",
   "metadata": {},
   "source": [
    "https://pytorch.org/docs/stable/generated/torch.nn.LayerNorm.html"
   ]
  },
  {
   "cell_type": "code",
   "execution_count": 79,
   "id": "b4d67c78",
   "metadata": {
    "ExecuteTime": {
     "end_time": "2023-04-11T10:16:07.697574Z",
     "start_time": "2023-04-11T10:16:07.675981Z"
    }
   },
   "outputs": [
    {
     "data": {
      "text/plain": [
       "torch.Size([32, 100])"
      ]
     },
     "execution_count": 79,
     "metadata": {},
     "output_type": "execute_result"
    }
   ],
   "source": [
    "class LayerNorm1d: # (used to be BatchNorm1d)\n",
    "  \n",
    "  def __init__(self, dim, eps=1e-5, momentum=0.1):\n",
    "    self.eps = eps\n",
    "    self.gamma = torch.ones(dim)\n",
    "    self.beta = torch.zeros(dim)\n",
    "  \n",
    "  def __call__(self, x):\n",
    "    # calculate the forward pass\n",
    "    xmean = x.mean(1, keepdim=True) # batch mean\n",
    "    xvar = x.var(1, keepdim=True) # batch variance\n",
    "    xhat = (x - xmean) / torch.sqrt(xvar + self.eps) # normalize to unit variance\n",
    "    self.out = self.gamma * xhat + self.beta\n",
    "    return self.out\n",
    "  \n",
    "  def parameters(self):\n",
    "    return [self.gamma, self.beta]\n",
    "\n",
    "torch.manual_seed(1337)\n",
    "module = LayerNorm1d(100)\n",
    "x = torch.randn(32, 100) # batch size 32 of 100-dimensional vectors\n",
    "x = module(x)\n",
    "x.shape"
   ]
  },
  {
   "cell_type": "markdown",
   "id": "52044ff4",
   "metadata": {},
   "source": [
    "Multihead attention is a case of using multiple attention heads in parallel. With different channel sizes. What is means that with create more communication ways between heads searching for different types of information. I the end we concatenate results to get our prediction on wegihts."
   ]
  },
  {
   "cell_type": "markdown",
   "id": "bb27a8b5",
   "metadata": {},
   "source": [
    "# Final model"
   ]
  },
  {
   "cell_type": "code",
   "execution_count": 80,
   "id": "8704f0c0",
   "metadata": {
    "ExecuteTime": {
     "end_time": "2023-04-11T10:48:06.251575Z",
     "start_time": "2023-04-11T10:42:05.473813Z"
    }
   },
   "outputs": [
    {
     "name": "stdout",
     "output_type": "stream",
     "text": [
      "0.209729 M parameters\n",
      "step 0: train loss 4.3312, val loss 4.3354\n",
      "step 100: train loss 2.6470, val loss 2.6729\n",
      "step 200: train loss 2.4964, val loss 2.4974\n",
      "step 300: train loss 2.4210, val loss 2.4180\n",
      "step 400: train loss 2.3554, val loss 2.3702\n",
      "step 500: train loss 2.2942, val loss 2.3106\n",
      "step 600: train loss 2.2435, val loss 2.2564\n",
      "step 700: train loss 2.1953, val loss 2.2201\n",
      "step 800: train loss 2.1618, val loss 2.1925\n",
      "step 900: train loss 2.1181, val loss 2.1677\n",
      "step 1000: train loss 2.0859, val loss 2.1304\n",
      "step 1100: train loss 2.0605, val loss 2.1039\n",
      "step 1200: train loss 2.0298, val loss 2.0835\n",
      "step 1300: train loss 2.0104, val loss 2.0657\n",
      "step 1400: train loss 1.9843, val loss 2.0547\n",
      "step 1500: train loss 1.9572, val loss 2.0307\n",
      "step 1600: train loss 1.9370, val loss 2.0094\n",
      "step 1700: train loss 1.9203, val loss 2.0136\n",
      "step 1800: train loss 1.9086, val loss 1.9963\n",
      "step 1900: train loss 1.8946, val loss 1.9777\n",
      "step 2000: train loss 1.8735, val loss 1.9709\n",
      "step 2100: train loss 1.8697, val loss 1.9618\n",
      "step 2200: train loss 1.8588, val loss 1.9480\n",
      "step 2300: train loss 1.8358, val loss 1.9382\n",
      "step 2400: train loss 1.8324, val loss 1.9561\n",
      "step 2500: train loss 1.8231, val loss 1.9296\n",
      "step 2600: train loss 1.8048, val loss 1.9300\n",
      "step 2700: train loss 1.7966, val loss 1.9194\n",
      "step 2800: train loss 1.7765, val loss 1.8973\n",
      "step 2900: train loss 1.7877, val loss 1.8967\n",
      "step 3000: train loss 1.7624, val loss 1.9110\n",
      "step 3100: train loss 1.7597, val loss 1.8917\n",
      "step 3200: train loss 1.7537, val loss 1.8810\n",
      "step 3300: train loss 1.7390, val loss 1.8944\n",
      "step 3400: train loss 1.7314, val loss 1.8632\n",
      "step 3500: train loss 1.7335, val loss 1.8829\n",
      "step 3600: train loss 1.7138, val loss 1.8716\n",
      "step 3700: train loss 1.7117, val loss 1.8672\n",
      "step 3800: train loss 1.7127, val loss 1.8578\n",
      "step 3900: train loss 1.6999, val loss 1.8469\n",
      "step 4000: train loss 1.7054, val loss 1.8478\n",
      "step 4100: train loss 1.6838, val loss 1.8479\n",
      "step 4200: train loss 1.6809, val loss 1.8175\n",
      "step 4300: train loss 1.6935, val loss 1.8546\n",
      "step 4400: train loss 1.6732, val loss 1.8247\n",
      "step 4500: train loss 1.6803, val loss 1.8274\n",
      "step 4600: train loss 1.6757, val loss 1.8383\n",
      "step 4700: train loss 1.6648, val loss 1.8324\n",
      "step 4800: train loss 1.6554, val loss 1.8251\n",
      "step 4900: train loss 1.6547, val loss 1.8248\n",
      "step 4999: train loss 1.6557, val loss 1.8109\n",
      "\n",
      "Ind say, have\n",
      "Begone great's: showfull no\n",
      "it sir; his feal! us but near my strife,\n",
      "All and; I happey will for yomers my maive.\n",
      "\n",
      "FRIAR LOUCENTIO:\n",
      "'Tis, that be'r'd my fight wass brother.\n",
      "\n",
      "SICE, I make eye, we comonter me:\n",
      "Were with Lord with leepose\n",
      "The prounstand bunder to balispaits recence?\n",
      "\n",
      "ESCHARD II:\n",
      "No, plofits in groryod to and a lavit.\n",
      "\n",
      "POLIXENE:\n",
      "HatD of all come and that breakes fate! for her sonderriars?\n",
      "How he broke it worth.\n",
      "\n",
      "CLIFFORK:\n",
      "Read maize comon thirm,\n",
      "For iff ill give your gratious brock'd's\n",
      "prawfulted say like from the grog cactel-nay swome other.\n",
      "\n",
      "CORIOLANUS:\n",
      "Prid in this throw it fromb\n",
      "Is will ladian! what I graw's suve fres thy bother.\n",
      "\n",
      "Chillow.\n",
      "FORD:\n",
      "A before them to the sir: and the plice?\n",
      "\n",
      "KING RICHOMENCENTIO:\n",
      "Me I come: there dea, dead.\n",
      "\n",
      "First Sene in: trongeraly, what good\n",
      "me.\n",
      "\n",
      "JULIETJORSA:\n",
      "I' not creaure, and heart indly scartiven will ingive\n",
      "Undre me it ere how in his hear bow,\n",
      "That my be cuty's bescAnd I will amost me follow intrue I ward\n",
      "A ageting eips; heaven than eyes.\n",
      "Whomk, for for a swill'd by the batts warrian,\n",
      "Or mi your contrent blingones wome!\n",
      "\n",
      "DUKE OF YORK:\n",
      "Come here, to\n",
      "\n",
      "CORIOLANUS:\n",
      "Good I was to Richeen ward from the hand, erriake,\n",
      "Beature on thy catienton is the\n",
      "dive pris, which will judgmites; nor years and baning!\n",
      "But reton and I hearnce\n",
      "Mumbreath, -wastes, would consit,\n",
      "That match to noble yond, even away indy him.\n",
      "\n",
      "BENVIOLIO:\n",
      "A seas brother very'd we say shereal being,\n",
      "This misbroke and in breage; in Godming here the when toG Pracl? I from on. I know Live.\n",
      "\n",
      "KING RICHARD II:\n",
      "Put gir! Perrie, well be heapions of toccame woy,\n",
      "To valining is gost life need.\n",
      "\n",
      "TROMENE:\n",
      "Martucke thus, before; least, wo, i'll till him.\n",
      "\n",
      "ISABRLANA:\n",
      "Be my crow---\n",
      "Now our ging; that is onnot wome!\n",
      "\n",
      "CORIOL:\n",
      "If be us, the pratchered as this of threw\n",
      "I many horn than you? what for your finsword?\n",
      "And with to scarring souls unto night unto for I was he is,\n",
      "The scan'd frow, your hea.\n",
      "Beached Boure, greet of the corit the struml ness you a lest diving\n"
     ]
    }
   ],
   "source": [
    "import torch\n",
    "import torch.nn as nn\n",
    "from torch.nn import functional as F\n",
    "\n",
    "# hyperparameters\n",
    "batch_size = 16 # how many independent sequences will we process in parallel?\n",
    "block_size = 32 # what is the maximum context length for predictions?\n",
    "max_iters = 5000\n",
    "eval_interval = 100\n",
    "learning_rate = 1e-3\n",
    "device = 'cuda' if torch.cuda.is_available() else 'cpu'\n",
    "eval_iters = 200\n",
    "n_embd = 64\n",
    "n_head = 4\n",
    "n_layer = 4\n",
    "dropout = 0.0\n",
    "# ------------\n",
    "\n",
    "torch.manual_seed(2137)\n",
    "\n",
    "# wget https://raw.githubusercontent.com/karpathy/char-rnn/master/data/tinyshakespeare/input.txt\n",
    "with open('input.txt', 'r', encoding='utf-8') as f:\n",
    "    text = f.read()\n",
    "\n",
    "# here are all the unique characters that occur in this text\n",
    "chars = sorted(list(set(text)))\n",
    "vocab_size = len(chars)\n",
    "# create a mapping from characters to integers\n",
    "stoi = { ch:i for i,ch in enumerate(chars) }\n",
    "itos = { i:ch for i,ch in enumerate(chars) }\n",
    "encode = lambda s: [stoi[c] for c in s] # encoder: take a string, output a list of integers\n",
    "decode = lambda l: ''.join([itos[i] for i in l]) # decoder: take a list of integers, output a string\n",
    "\n",
    "# Train and test splits\n",
    "data = torch.tensor(encode(text), dtype=torch.long)\n",
    "n = int(0.9*len(data)) # first 90% will be train, rest val\n",
    "train_data = data[:n]\n",
    "val_data = data[n:]\n",
    "\n",
    "# data loading\n",
    "def get_batch(split):\n",
    "    # generate a small batch of data of inputs x and targets y\n",
    "    data = train_data if split == 'train' else val_data\n",
    "    ix = torch.randint(len(data) - block_size, (batch_size,))\n",
    "    x = torch.stack([data[i:i+block_size] for i in ix])\n",
    "    y = torch.stack([data[i+1:i+block_size+1] for i in ix])\n",
    "    x, y = x.to(device), y.to(device)\n",
    "    return x, y\n",
    "\n",
    "@torch.no_grad()\n",
    "def estimate_loss():\n",
    "    out = {}\n",
    "    model.eval()\n",
    "    for split in ['train', 'val']:\n",
    "        losses = torch.zeros(eval_iters)\n",
    "        for k in range(eval_iters):\n",
    "            X, Y = get_batch(split)\n",
    "            logits, loss = model(X, Y)\n",
    "            losses[k] = loss.item()\n",
    "        out[split] = losses.mean()\n",
    "    model.train()\n",
    "    return out\n",
    "\n",
    "class Head(nn.Module):\n",
    "    \"\"\" one head of self-attention \"\"\"\n",
    "\n",
    "    def __init__(self, head_size):\n",
    "        super().__init__()\n",
    "        self.key = nn.Linear(n_embd, head_size, bias=False)\n",
    "        self.query = nn.Linear(n_embd, head_size, bias=False)\n",
    "        self.value = nn.Linear(n_embd, head_size, bias=False)\n",
    "        self.register_buffer('tril', torch.tril(torch.ones(block_size, block_size)))\n",
    "\n",
    "        self.dropout = nn.Dropout(dropout)\n",
    "\n",
    "    def forward(self, x):\n",
    "        B,T,C = x.shape\n",
    "        k = self.key(x)   # (B,T,C)\n",
    "        q = self.query(x) # (B,T,C)\n",
    "        # compute attention scores (\"affinities\")\n",
    "        wei = q @ k.transpose(-2,-1) * C**-0.5 # (B, T, C) @ (B, C, T) -> (B, T, T)\n",
    "        wei = wei.masked_fill(self.tril[:T, :T] == 0, float('-inf')) # (B, T, T)\n",
    "        wei = F.softmax(wei, dim=-1) # (B, T, T)\n",
    "        wei = self.dropout(wei)\n",
    "        # perform the weighted aggregation of the values\n",
    "        v = self.value(x) # (B,T,C)\n",
    "        out = wei @ v # (B, T, T) @ (B, T, C) -> (B, T, C)\n",
    "        return out\n",
    "\n",
    "class MultiHeadAttention(nn.Module):\n",
    "    \"\"\" multiple heads of self-attention in parallel \"\"\"\n",
    "\n",
    "    def __init__(self, num_heads, head_size):\n",
    "        super().__init__()\n",
    "        self.heads = nn.ModuleList([Head(head_size) for _ in range(num_heads)])\n",
    "        self.proj = nn.Linear(n_embd, n_embd)\n",
    "        self.dropout = nn.Dropout(dropout)\n",
    "\n",
    "    def forward(self, x):\n",
    "        out = torch.cat([h(x) for h in self.heads], dim=-1)\n",
    "        out = self.dropout(self.proj(out))\n",
    "        return out\n",
    "\n",
    "class FeedFoward(nn.Module):\n",
    "    \"\"\" a simple linear layer followed by a non-linearity \"\"\"\n",
    "\n",
    "    def __init__(self, n_embd):\n",
    "        super().__init__()\n",
    "        self.net = nn.Sequential(\n",
    "            nn.Linear(n_embd, 4 * n_embd),\n",
    "            nn.ReLU(),\n",
    "            nn.Linear(4 * n_embd, n_embd),\n",
    "            nn.Dropout(dropout),\n",
    "        )\n",
    "\n",
    "    def forward(self, x):\n",
    "        return self.net(x)\n",
    "\n",
    "class Block(nn.Module):\n",
    "    \"\"\" Transformer block: communication followed by computation \"\"\"\n",
    "\n",
    "    def __init__(self, n_embd, n_head):\n",
    "        # n_embd: embedding dimension, n_head: the number of heads we'd like\n",
    "        super().__init__()\n",
    "        head_size = n_embd // n_head\n",
    "        self.sa = MultiHeadAttention(n_head, head_size)\n",
    "        self.ffwd = FeedFoward(n_embd)\n",
    "        self.ln1 = nn.LayerNorm(n_embd)\n",
    "        self.ln2 = nn.LayerNorm(n_embd)\n",
    "\n",
    "    def forward(self, x):\n",
    "        x = x + self.sa(self.ln1(x))\n",
    "        x = x + self.ffwd(self.ln2(x))\n",
    "        return x\n",
    "\n",
    "# super simple bigram model\n",
    "class BigramLanguageModel(nn.Module):\n",
    "\n",
    "    def __init__(self):\n",
    "        super().__init__()\n",
    "        # each token directly reads off the logits for the next token from a lookup table\n",
    "        self.token_embedding_table = nn.Embedding(vocab_size, n_embd)\n",
    "        self.position_embedding_table = nn.Embedding(block_size, n_embd)\n",
    "        self.blocks = nn.Sequential(*[Block(n_embd, n_head=n_head) for _ in range(n_layer)])\n",
    "        self.ln_f = nn.LayerNorm(n_embd) # final layer norm\n",
    "        self.lm_head = nn.Linear(n_embd, vocab_size)\n",
    "\n",
    "    def forward(self, idx, targets=None):\n",
    "        B, T = idx.shape\n",
    "\n",
    "        # idx and targets are both (B,T) tensor of integers\n",
    "        tok_emb = self.token_embedding_table(idx) # (B,T,C)\n",
    "        pos_emb = self.position_embedding_table(torch.arange(T, device=device)) # (T,C)\n",
    "        x = tok_emb + pos_emb # (B,T,C)\n",
    "        x = self.blocks(x) # (B,T,C)\n",
    "        x = self.ln_f(x) # (B,T,C)\n",
    "        logits = self.lm_head(x) # (B,T,vocab_size)\n",
    "\n",
    "        if targets is None:\n",
    "            loss = None\n",
    "        else:\n",
    "            B, T, C = logits.shape\n",
    "            logits = logits.view(B*T, C)\n",
    "            targets = targets.view(B*T)\n",
    "            loss = F.cross_entropy(logits, targets)\n",
    "\n",
    "        return logits, loss\n",
    "\n",
    "    def generate(self, idx, max_new_tokens):\n",
    "        # idx is (B, T) array of indices in the current context\n",
    "        for _ in range(max_new_tokens):\n",
    "            # crop idx to the last block_size tokens\n",
    "            idx_cond = idx[:, -block_size:]\n",
    "            # get the predictions\n",
    "            logits, loss = self(idx_cond)\n",
    "            # focus only on the last time step\n",
    "            logits = logits[:, -1, :] # becomes (B, C)\n",
    "            # apply softmax to get probabilities\n",
    "            probs = F.softmax(logits, dim=-1) # (B, C)\n",
    "            # sample from the distribution\n",
    "            idx_next = torch.multinomial(probs, num_samples=1) # (B, 1)\n",
    "            # append sampled index to the running sequence\n",
    "            idx = torch.cat((idx, idx_next), dim=1) # (B, T+1)\n",
    "        return idx\n",
    "\n",
    "model = BigramLanguageModel()\n",
    "m = model.to(device)\n",
    "# print the number of parameters in the model\n",
    "print(sum(p.numel() for p in m.parameters())/1e6, 'M parameters')\n",
    "\n",
    "# create a PyTorch optimizer\n",
    "optimizer = torch.optim.AdamW(model.parameters(), lr=learning_rate)\n",
    "\n",
    "for iter in range(max_iters):\n",
    "\n",
    "    # every once in a while evaluate the loss on train and val sets\n",
    "    if iter % eval_interval == 0 or iter == max_iters - 1:\n",
    "        losses = estimate_loss()\n",
    "        print(f\"step {iter}: train loss {losses['train']:.4f}, val loss {losses['val']:.4f}\")\n",
    "\n",
    "    # sample a batch of data\n",
    "    xb, yb = get_batch('train')\n",
    "\n",
    "    # evaluate the loss\n",
    "    logits, loss = model(xb, yb)\n",
    "    optimizer.zero_grad(set_to_none=True)\n",
    "    loss.backward()\n",
    "    optimizer.step()\n",
    "\n",
    "# generate from the model\n",
    "context = torch.zeros((1, 1), dtype=torch.long, device=device)\n",
    "print(decode(m.generate(context, max_new_tokens=2000)[0].tolist()))"
   ]
  },
  {
   "cell_type": "code",
   "execution_count": null,
   "id": "4a800fe4",
   "metadata": {},
   "outputs": [],
   "source": []
  }
 ],
 "metadata": {
  "hide_input": false,
  "kernelspec": {
   "display_name": "Python 3 (ipykernel)",
   "language": "python",
   "name": "python3"
  },
  "language_info": {
   "codemirror_mode": {
    "name": "ipython",
    "version": 3
   },
   "file_extension": ".py",
   "mimetype": "text/x-python",
   "name": "python",
   "nbconvert_exporter": "python",
   "pygments_lexer": "ipython3",
   "version": "3.9.13"
  },
  "toc": {
   "base_numbering": 1,
   "nav_menu": {},
   "number_sections": true,
   "sideBar": true,
   "skip_h1_title": false,
   "title_cell": "Table of Contents",
   "title_sidebar": "Contents",
   "toc_cell": false,
   "toc_position": {
    "height": "calc(100% - 180px)",
    "left": "10px",
    "top": "150px",
    "width": "384px"
   },
   "toc_section_display": true,
   "toc_window_display": true
  }
 },
 "nbformat": 4,
 "nbformat_minor": 5
}
